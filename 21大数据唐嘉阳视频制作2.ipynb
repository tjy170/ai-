{
 "cells": [
  {
   "cell_type": "code",
   "execution_count": 25,
   "id": "8ce404a7-5b69-4933-be95-36c6e418f5a6",
   "metadata": {},
   "outputs": [
    {
     "name": "stdout",
     "output_type": "stream",
     "text": [
      "VideoObject(id='56611732691995601-9202952971537492012', model='cogvideox', video_result=None, task_status='PROCESSING', request_id='-9202952971537492013')\n"
     ]
    }
   ],
   "source": [
    "from zhipuai import ZhipuAI\n",
    "client = ZhipuAI(api_key = \"c6d95ba46cc0dc789855cbb4e4a6446b.fvG1ytELp9JY4tsh\")\n",
    "\n",
    "response = client.videos.generations(\n",
    "    model = \"cogvideox\",\n",
    "    image_url ='https://img0.baidu.com/it/u=2931243091,718249849&fm=253&app=120&size=w931&n=0&f=JPEG&fmt=auto?sec=1732899600&t=e92c5a6ccc4fe0861f604c8f34185b9b',\n",
    "    prompt = \"美少女战士,喝汽水\"\n",
    ")\n",
    "print(response)"
   ]
  },
  {
   "cell_type": "code",
   "execution_count": 30,
   "id": "85cf2778-848a-47c3-ae81-2cf390e20ee3",
   "metadata": {},
   "outputs": [
    {
     "name": "stdout",
     "output_type": "stream",
     "text": [
      "VideoObject(id=None, model='cogvideox', video_result=[VideoResult(url='https://aigc-files.bigmodel.cn/api/cogvideo/fb9b6276-ad28-11ef-a26a-d6c7d09c487b_0.mp4', cover_image_url='https://aigc-files.bigmodel.cn/api/cogvideo/fb9b6276-ad28-11ef-a26a-d6c7d09c487b_cover_0.jpeg')], task_status='SUCCESS', request_id='-9202952971537492013')\n"
     ]
    }
   ],
   "source": [
    "from zhipuai import ZhipuAI\n",
    "client = ZhipuAI(api_key = \"c6d95ba46cc0dc789855cbb4e4a6446b.fvG1ytELp9JY4tsh\")\n",
    "\n",
    "response = client.videos.retrieve_videos_result(\n",
    "    id = \"56611732691995601-9202952971537492012\"\n",
    ")\n",
    "print(response)"
   ]
  },
  {
   "cell_type": "code",
   "execution_count": 29,
   "id": "5493b7af",
   "metadata": {},
   "outputs": [
    {
     "data": {
      "text/plain": [
       "VideoObject(id='56611732691995601-9202952971537492012', model='cogvideox', video_result=None, task_status='PROCESSING', request_id='-9202952971537492013')"
      ]
     },
     "execution_count": 29,
     "metadata": {},
     "output_type": "execute_result"
    }
   ],
   "source": [
    "response"
   ]
  },
  {
   "cell_type": "code",
   "execution_count": null,
   "id": "0969a000-ed98-4bc0-ade0-bdd51efe1d5b",
   "metadata": {},
   "outputs": [],
   "source": [
    "id = ''\n",
    "request_id = ''\n",
    "model = 'cogvideox'\n",
    "task_status = 'PROCESSING'"
   ]
  }
 ],
 "metadata": {
  "kernelspec": {
   "display_name": "Python 3 (ipykernel)",
   "language": "python",
   "name": "python3"
  },
  "language_info": {
   "codemirror_mode": {
    "name": "ipython",
    "version": 3
   },
   "file_extension": ".py",
   "mimetype": "text/x-python",
   "name": "python",
   "nbconvert_exporter": "python",
   "pygments_lexer": "ipython3",
   "version": "3.9.7"
  }
 },
 "nbformat": 4,
 "nbformat_minor": 5
}
