{
 "cells": [
  {
   "cell_type": "code",
   "execution_count": 2,
   "id": "c40a3e52",
   "metadata": {},
   "outputs": [],
   "source": [
    "import torch"
   ]
  },
  {
   "cell_type": "code",
   "execution_count": 3,
   "id": "5a6d989c",
   "metadata": {},
   "outputs": [
    {
     "data": {
      "text/plain": [
       "tensor([[1, 2],\n",
       "        [3, 4]])"
      ]
     },
     "execution_count": 3,
     "metadata": {},
     "output_type": "execute_result"
    }
   ],
   "source": [
    "data = [[1,2],[3,4]]\n",
    "x_data = torch.tensor(data)\n",
    "x_data"
   ]
  },
  {
   "cell_type": "code",
   "execution_count": 9,
   "id": "02c996ea",
   "metadata": {},
   "outputs": [
    {
     "name": "stdout",
     "output_type": "stream",
     "text": [
      "Ones Tensor:\n",
      "tensor([[1, 2],\n",
      "        [3, 4]])\n",
      "\n",
      "Rnes Tensor:\n",
      "tensor([[0.3437, 0.4323],\n",
      "        [0.2866, 0.0993]])\n",
      "\n"
     ]
    }
   ],
   "source": [
    "x_one = torch.ones_like(x_data)\n",
    "print(f\"Ones Tensor:\\n{x_data}\\n\")\n",
    "x_rand = torch.rand_like(x_data,dtype = torch.float)\n",
    "print(f\"Rnes Tensor:\\n{x_rand}\\n\")"
   ]
  },
  {
   "cell_type": "code",
   "execution_count": 15,
   "id": "e056c0fd",
   "metadata": {},
   "outputs": [
    {
     "name": "stdout",
     "output_type": "stream",
     "text": [
      "<class 'torch.Tensor'>\n",
      "tensor([[[0.0157, 0.0157, 0.0196,  ..., 0.0275, 0.0157, 0.0157],\n",
      "         [0.0157, 0.0157, 0.0196,  ..., 0.0196, 0.0275, 0.0275],\n",
      "         [0.0157, 0.0157, 0.0196,  ..., 0.0157, 0.0235, 0.0235],\n",
      "         ...,\n",
      "         [0.0314, 0.0314, 0.0235,  ..., 0.0157, 0.0039, 0.0039],\n",
      "         [0.0314, 0.0314, 0.0235,  ..., 0.0078, 0.0039, 0.0039],\n",
      "         [0.0314, 0.0314, 0.0235,  ..., 0.0000, 0.0039, 0.0039]],\n",
      "\n",
      "        [[0.0235, 0.0235, 0.0196,  ..., 0.0314, 0.0196, 0.0196],\n",
      "         [0.0235, 0.0235, 0.0196,  ..., 0.0235, 0.0314, 0.0314],\n",
      "         [0.0235, 0.0235, 0.0196,  ..., 0.0196, 0.0275, 0.0275],\n",
      "         ...,\n",
      "         [0.0275, 0.0275, 0.0196,  ..., 0.0235, 0.0118, 0.0118],\n",
      "         [0.0275, 0.0275, 0.0196,  ..., 0.0157, 0.0118, 0.0118],\n",
      "         [0.0275, 0.0275, 0.0196,  ..., 0.0078, 0.0118, 0.0118]],\n",
      "\n",
      "        [[0.0118, 0.0118, 0.0118,  ..., 0.0118, 0.0000, 0.0000],\n",
      "         [0.0118, 0.0118, 0.0118,  ..., 0.0039, 0.0118, 0.0118],\n",
      "         [0.0118, 0.0118, 0.0118,  ..., 0.0000, 0.0078, 0.0078],\n",
      "         ...,\n",
      "         [0.0078, 0.0118, 0.0118,  ..., 0.0196, 0.0078, 0.0078],\n",
      "         [0.0078, 0.0118, 0.0118,  ..., 0.0118, 0.0078, 0.0078],\n",
      "         [0.0078, 0.0118, 0.0118,  ..., 0.0039, 0.0078, 0.0078]]])\n"
     ]
    }
   ],
   "source": [
    "from PIL import Image\n",
    "from torchvision import transforms\n",
    "image_path = r'webwxgetmsgimg.jpg'\n",
    "image = Image.open(image_path)\n",
    "transform = transforms.ToTensor()\n",
    "tensor_image = transform(image)\n",
    "print(type(tensor_image))\n",
    "print(tensor_image)"
   ]
  },
  {
   "cell_type": "code",
   "execution_count": 21,
   "id": "0f86cb17",
   "metadata": {},
   "outputs": [
    {
     "name": "stdout",
     "output_type": "stream",
     "text": [
      "<class 'PIL.Image.Image'>\n"
     ]
    }
   ],
   "source": [
    "to_PIL = transforms.ToPILImage()\n",
    "image_s = to_PIL(tensor_image)\n",
    "print(type(image_s))\n",
    "image_s.save('转换后的图片.jpg')"
   ]
  },
  {
   "cell_type": "code",
   "execution_count": null,
   "id": "754cb5c5",
   "metadata": {},
   "outputs": [],
   "source": []
  }
 ],
 "metadata": {
  "kernelspec": {
   "display_name": "Python 3 (ipykernel)",
   "language": "python",
   "name": "python3"
  },
  "language_info": {
   "codemirror_mode": {
    "name": "ipython",
    "version": 3
   },
   "file_extension": ".py",
   "mimetype": "text/x-python",
   "name": "python",
   "nbconvert_exporter": "python",
   "pygments_lexer": "ipython3",
   "version": "3.9.7"
  }
 },
 "nbformat": 4,
 "nbformat_minor": 5
}
