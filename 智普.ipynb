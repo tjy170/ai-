{
 "cells": [
  {
   "cell_type": "code",
   "execution_count": 8,
   "id": "8ce404a7-5b69-4933-be95-36c6e418f5a6",
   "metadata": {},
   "outputs": [
    {
     "name": "stdout",
     "output_type": "stream",
     "text": [
      "VideoObject(id='56611732691995601-9202948539130696353', model='cogvideox', video_result=None, task_status='PROCESSING', request_id='-9202948539130696354')\n"
     ]
    }
   ],
   "source": [
    "from zhipuai import ZhipuAI\n",
    "client = ZhipuAI(api_key = \"c6d95ba46cc0dc789855cbb4e4a6446b.fvG1ytELp9JY4tsh\")\n",
    "\n",
    "response = client.videos.generations(\n",
    "    model = \"cogvideox\",\n",
    "    prompt = \"巴啦啦小魔仙变身，美少女战士；唱歌，剪头发\"\n",
    ")\n",
    "print(response)"
   ]
  },
  {
   "cell_type": "code",
   "execution_count": 10,
   "id": "85cf2778-848a-47c3-ae81-2cf390e20ee3",
   "metadata": {},
   "outputs": [
    {
     "name": "stdout",
     "output_type": "stream",
     "text": [
      "VideoObject(id=None, model='cogvideox', video_result=[VideoResult(url='https://aigc-files.bigmodel.cn/api/cogvideo/d02bea4c-acb6-11ef-bd78-9ee7942420ea_0.mp4', cover_image_url='https://aigc-files.bigmodel.cn/api/cogvideo/d02bea4c-acb6-11ef-bd78-9ee7942420ea_cover_0.jpeg')], task_status='SUCCESS', request_id='-9202948539130696354')\n"
     ]
    }
   ],
   "source": [
    "from zhipuai import ZhipuAI\n",
    "client = ZhipuAI(api_key = \"c6d95ba46cc0dc789855cbb4e4a6446b.fvG1ytELp9JY4tsh\")\n",
    "\n",
    "response = client.videos.retrieve_videos_result(\n",
    "    id = \"56611732691995601-9202948539130696353\"\n",
    ")\n",
    "print(response)"
   ]
  },
  {
   "cell_type": "code",
   "execution_count": null,
   "id": "0969a000-ed98-4bc0-ade0-bdd51efe1d5b",
   "metadata": {},
   "outputs": [],
   "source": []
  }
 ],
 "metadata": {
  "kernelspec": {
   "display_name": "Python 3 (ipykernel)",
   "language": "python",
   "name": "python3"
  },
  "language_info": {
   "codemirror_mode": {
    "name": "ipython",
    "version": 3
   },
   "file_extension": ".py",
   "mimetype": "text/x-python",
   "name": "python",
   "nbconvert_exporter": "python",
   "pygments_lexer": "ipython3",
   "version": "3.9.13"
  }
 },
 "nbformat": 4,
 "nbformat_minor": 5
}
